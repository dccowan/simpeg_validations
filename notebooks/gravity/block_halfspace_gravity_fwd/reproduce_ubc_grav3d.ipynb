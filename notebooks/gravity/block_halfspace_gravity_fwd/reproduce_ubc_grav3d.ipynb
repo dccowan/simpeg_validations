{
 "cells": [
  {
   "cell_type": "markdown",
   "metadata": {},
   "source": [
    "Reproduce: GRAV3D v6.0.1\n",
    "========================\n",
    "\n",
    "## Simulating Gravity Anomaly Data Over a Block in a Halfspace\n",
    "\n",
    "Gravity anomaly data are simulated for a density contrast model over block in a halfspace. The density contrast of the background is 0 $g/cm^3$ and the density contrast of the block is 0.1 $g/cm^3$. The dimensions of the block in the x, y and z directions are all 200 m. The block is buried at a depth of 200 m.\n",
    "\n",
    "Gravity anomaly data are simulated on a regular grid of points at a heigh of 1 m above the Earth's surface. The station spacing is 50 m in both the X and Y directions."
   ]
  },
  {
   "cell_type": "markdown",
   "metadata": {},
   "source": [
    "## UBC-GIF GRAV3D v6.0.1 Package Details\n",
    "\n",
    "[GRAV3D v6.0.1](https://grav3d.readthedocs.io/en/v6.0/) is a voxel cell gravity forward modeling and inversion package developed by the UBC Geophysical Inversion Facility. This software is proprietary and can ONLY be acquired through appropriate [academic](https://gif.eos.ubc.ca/software/licenses_academic) or [commerical](https://gif.eos.ubc.ca/software/licenses_commercial) licenses. The numerical approach of the forward simulation is described in the [online manual's theory section](https://grav3d.readthedocs.io/en/v6.0/content/theory.html). If you have a valid license, the steps for reproducing the simulating results are explained below. "
   ]
  },
  {
   "cell_type": "markdown",
   "metadata": {},
   "source": [
    "## Running the Forward Simulation"
   ]
  },
  {
   "cell_type": "markdown",
   "metadata": {},
   "source": [
    "### Step 1: Acquiring a commercial or academic license.\n",
    "\n",
    "- Explain and link to where you would get licenses. Make ABSOLUTELY CLEAR we don't just give out the licenses willy-nilly."
   ]
  },
  {
   "cell_type": "markdown",
   "metadata": {},
   "source": [
    "### Step 2: Downloading and extracting assets\n",
    "\n",
    "- Link and instructions for download"
   ]
  },
  {
   "cell_type": "markdown",
   "metadata": {},
   "source": [
    "### Step 3: Running the forward modeling executable\n",
    "\n",
    "- Brief description of what files are needed\n",
    "- Link to the manual page where we run the forward simulation"
   ]
  },
  {
   "cell_type": "code",
   "execution_count": null,
   "metadata": {},
   "outputs": [],
   "source": []
  }
 ],
 "metadata": {
  "kernelspec": {
   "display_name": "Python 3",
   "language": "python",
   "name": "python3"
  },
  "language_info": {
   "codemirror_mode": {
    "name": "ipython",
    "version": 3
   },
   "file_extension": ".py",
   "mimetype": "text/x-python",
   "name": "python",
   "nbconvert_exporter": "python",
   "pygments_lexer": "ipython3",
   "version": "3.8.8"
  }
 },
 "nbformat": 4,
 "nbformat_minor": 4
}
