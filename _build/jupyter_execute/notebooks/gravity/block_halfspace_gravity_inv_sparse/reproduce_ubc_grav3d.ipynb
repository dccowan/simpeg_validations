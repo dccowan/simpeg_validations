{
 "cells": [
  {
   "cell_type": "markdown",
   "metadata": {},
   "source": [
    "Reproduce: GRAV3D v6.0.1\n",
    "=======================\n",
    "\n",
    "## Inverting Gravity Data Over a Block in a Halfspace: Compact and Blocky Model\n",
    "\n",
    "Here, we invert gravity anomaly data collected over a block within a homogeneous halfspace. We invert for a compact and blocky model using an iteratively re-weighted least-squares inversion approach.\n",
    "\n",
    "The true model consists of a denser block (0.1 $g/cm^3$) within a halfspace (0 $g/cm^3$).\n",
    "The dimensions of the block in the x, y and z directions are all 200 m. The block is buried at a depth of 200 m.\n",
    "\n",
    "The data being inverted were generated using the [UBC-GIF GRAV3D v6.0.1 code](https://grav3d.readthedocs.io/en/v6.0/). Synthetic gravity data were simulated at a heigh 1 m above the surface within a 1000 m by 1000 m region; the center of which lied directly over the center of the block. Gaussian noise with a standard deviation of 0.002 mGal were added to the synthetic data. Uncertainties of 0.002 mGal were assigned to the data before inverting."
   ]
  },
  {
   "cell_type": "markdown",
   "metadata": {},
   "source": [
    "## UBC-GIF GRAV3D v6.0.1 Package Details\n",
    "\n",
    "[GRAV3D v6.0.1](https://grav3d.readthedocs.io/en/v6.0/) is a voxel cell gravity forward modeling and inversion package developed by the UBC Geophysical Inversion Facility. This software is proprietary and can ONLY be acquired through appropriate [academic](https://gif.eos.ubc.ca/software/licenses_academic) or [commerical](https://gif.eos.ubc.ca/software/licenses_commercial) licenses. The numerical approach of the forward simulation is described in the [online manual's theory section](https://grav3d.readthedocs.io/en/v6.0/content/theory.html). If you have a valid license, the steps for reproducing the simulating results are explained below. "
   ]
  },
  {
   "cell_type": "markdown",
   "metadata": {},
   "source": [
    "## Running the Inversion"
   ]
  },
  {
   "cell_type": "markdown",
   "metadata": {},
   "source": [
    "### Step 1: Acquiring a commercial or academic license.\n",
    "\n",
    "- Explain and link to where you would get licenses. Make ABSOLUTELY CLEAR we don't just give out the licenses willy-nilly."
   ]
  },
  {
   "cell_type": "markdown",
   "metadata": {},
   "source": [
    "### Step 2: Downloading and extracting assets\n",
    "\n",
    "- Link and instructions for download"
   ]
  },
  {
   "cell_type": "markdown",
   "metadata": {},
   "source": [
    "### Step 3: Running the forward modeling executable\n",
    "\n",
    "- Brief description of what files are needed\n",
    "- Link to the manual page where we run the forward simulation"
   ]
  },
  {
   "cell_type": "code",
   "execution_count": null,
   "metadata": {},
   "outputs": [],
   "source": []
  }
 ],
 "metadata": {
  "kernelspec": {
   "display_name": "Python 3",
   "language": "python",
   "name": "python3"
  },
  "language_info": {
   "codemirror_mode": {
    "name": "ipython",
    "version": 3
   },
   "file_extension": ".py",
   "mimetype": "text/x-python",
   "name": "python",
   "nbconvert_exporter": "python",
   "pygments_lexer": "ipython3",
   "version": "3.8.8"
  }
 },
 "nbformat": 4,
 "nbformat_minor": 4
}